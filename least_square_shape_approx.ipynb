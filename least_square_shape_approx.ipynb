{
 "cells": [
  {
   "cell_type": "code",
   "execution_count": 6,
   "id": "7b4748ea",
   "metadata": {},
   "outputs": [],
   "source": [
    "import numpy as np\n",
    "import matplotlib.pyplot as plt\n",
    "import pandas as pd\n",
    "import numpy as np\n",
    "\n",
    "from scipy import optimize\n",
    "from scipy.spatial import distance_matrix"
   ]
  },
  {
   "cell_type": "code",
   "execution_count": 7,
   "id": "cc645567",
   "metadata": {},
   "outputs": [],
   "source": [
    "def remove_close_points(points, min_distance=0.1):\n",
    "    \"\"\"\n",
    "    Remove points that are very close to each other from a NumPy array.\n",
    "    \n",
    "    Parameters:\n",
    "    -----------\n",
    "    points : numpy.ndarray\n",
    "        Input array of points with shape (n, 2) or (n, 3)\n",
    "    min_distance : float, optional\n",
    "        Minimum distance between points to keep. Points closer than \n",
    "        this will be removed. Default is 0.1.\n",
    "    \n",
    "    Returns:\n",
    "    --------\n",
    "    numpy.ndarray\n",
    "        Filtered array of points with closely spaced points removed\n",
    "    \"\"\"\n",
    "    # Validate input\n",
    "    points = np.asarray(points)\n",
    "    if points.ndim != 2 or points.shape[1] not in [2, 3]:\n",
    "        raise ValueError(\"Input must be a 2D array with 2 or 3 columns\")\n",
    "    \n",
    "    # If no points or single point, return as is\n",
    "    if len(points) <= 1:\n",
    "        return points\n",
    "    \n",
    "    # Compute distance matrix\n",
    "    dist_matrix = distance_matrix(points, points)\n",
    "    \n",
    "    # Create a mask to keep points\n",
    "    keep_mask = np.ones(len(points), dtype=bool)\n",
    "    \n",
    "    for i in range(len(points)):\n",
    "        if not keep_mask[i]:\n",
    "            continue\n",
    "        \n",
    "        # Find points close to the current point\n",
    "        close_points = np.where((dist_matrix[i] < min_distance) & (dist_matrix[i] > 0))[0]\n",
    "        \n",
    "        # Mark close points to be removed\n",
    "        keep_mask[close_points] = False\n",
    "    \n",
    "    # Return filtered points\n",
    "    return points[keep_mask]"
   ]
  },
  {
   "cell_type": "code",
   "execution_count": 10,
   "id": "28c5f10f",
   "metadata": {},
   "outputs": [],
   "source": [
    "df1 = pd.read_csv('dataframes_pos_uncertainty/1_3_15_0_0.csv')\n",
    "df2 = pd.read_csv('dataframes_pos_uncertainty/1_3_15_44_0.csv')"
   ]
  },
  {
   "cell_type": "code",
   "execution_count": 19,
   "id": "d7cd32f6",
   "metadata": {},
   "outputs": [
    {
     "data": {
      "text/plain": [
       "(-3.4602649077183, 3.4353822855745273, 17.02355158000024, 23.91919877329307)"
      ]
     },
     "execution_count": 19,
     "metadata": {},
     "output_type": "execute_result"
    },
    {
     "data": {
      "image/png": "[encoded data removed]",
      "text/plain": [
       "<Figure size 640x480 with 1 Axes>"
      ]
     },
     "metadata": {},
     "output_type": "display_data"
    }
   ],
   "source": [
    "plt.scatter(df1['vy_vo'], df1['vx_vo'])\n",
    "plt.scatter(df1['vy_mvp'], df1['vx_mvp'])\n",
    "\n",
    "plt.scatter(df2['vy_vo'], df2['vx_vo'])\n",
    "plt.scatter(df2['vy_mvp'], df2['vx_mvp'])\n",
    "plt.axis('square')"
   ]
  },
  {
   "cell_type": "code",
   "execution_count": 20,
   "id": "67402111",
   "metadata": {},
   "outputs": [],
   "source": [
    "X_mvp_0 = np.array(df1[['vx_mvp', 'vy_mvp']])\n",
    "X_vo_0 = np.array(df1[['vx_vo', 'vy_vo']])\n",
    "\n",
    "X_vo_44 = np.array(df2[['vx_vo', 'vy_vo']])\n",
    "X_vo_44 = np.array(df2[['vx_vo', 'vy_vo']])\n",
    "\n",
    "filtered_points1 = remove_close_points(X_vo_0, min_distance=0.5)\n",
    "filtered_points2 = remove_close_points(X_vo_44, min_distance=0.5)"
   ]
  },
  {
   "cell_type": "code",
   "execution_count": 24,
   "id": "d2ab061f",
   "metadata": {},
   "outputs": [
    {
     "data": {
      "text/plain": [
       "(-2.320974235037725, 2.362386172051589, 18.73424677918729, 23.417607186276605)"
      ]
     },
     "execution_count": 24,
     "metadata": {},
     "output_type": "execute_result"
    },
    {
     "data": {
      "image/png": "[encoded data removed]",
      "text/plain": [
       "<Figure size 640x480 with 1 Axes>"
      ]
     },
     "metadata": {},
     "output_type": "display_data"
    }
   ],
   "source": [
    "plt.scatter(filtered_points1[:, 1], filtered_points1[:, 0])\n",
    "plt.axis('square')"
   ]
  },
  {
   "cell_type": "code",
   "execution_count": 27,
   "id": "deb112a2",
   "metadata": {},
   "outputs": [],
   "source": [
    "import numpy as np\n",
    "from scipy import optimize\n",
    "\n",
    "def leastsq_circle_fit(points):\n",
    "    \"\"\"\n",
    "    Least squares circle fitting method\n",
    "    \n",
    "    Args:\n",
    "    points (np.ndarray): Array of (x, y) coordinates\n",
    "    \n",
    "    Returns:\n",
    "    tuple: (center_x, center_y, radius)\n",
    "    \"\"\"\n",
    "    def calc_R(xc, yc):\n",
    "        \"\"\" Calculate the distance of each point from center (xc, yc) \"\"\"\n",
    "        return np.sqrt((points[:, 0] - xc)**2 + (points[:, 1] - yc)**2)\n",
    "    \n",
    "    def f(c):\n",
    "        \"\"\" Compute algebraic distance between the data points and the mean circle centered at c \"\"\"\n",
    "        Ri = calc_R(*c)\n",
    "        return Ri - Ri.mean()\n",
    "    \n",
    "    # Initial guess (centroid)\n",
    "    center_estimate = np.mean(points, axis=0)\n",
    "    \n",
    "    # Optimize to find center\n",
    "    center, _ = optimize.leastsq(f, center_estimate)\n",
    "    \n",
    "    # Calculate radius\n",
    "    radius = calc_R(*center).mean()\n",
    "    \n",
    "    return center[0], center[1], radius"
   ]
  },
  {
   "cell_type": "code",
   "execution_count": 29,
   "id": "8e121620",
   "metadata": {},
   "outputs": [
    {
     "name": "stdout",
     "output_type": "stream",
     "text": [
      "\n",
      "Least Squares Circle Fit:\n",
      "Center: (17.5000, 0.0000), Radius: 2.5000\n",
      "\n",
      "Least Squares Circle Fit:\n",
      "Center: (15.3950, 5.2099), Radius: 6.9533\n"
     ]
    }
   ],
   "source": [
    "print(\"\\nLeast Squares Circle Fit:\")\n",
    "ls_center_x, ls_center_y, ls_radius = leastsq_circle_fit(filtered_points1)\n",
    "print(f\"Center: ({ls_center_x:.4f}, {ls_center_y:.4f}), Radius: {ls_radius:.4f}\")\n",
    "\n",
    "print(\"\\nLeast Squares Circle Fit:\")\n",
    "ls_center_x, ls_center_y, ls_radius = leastsq_circle_fit(filtered_points2)\n",
    "print(f\"Center: ({ls_center_x:.4f}, {ls_center_y:.4f}), Radius: {ls_radius:.4f}\")"
   ]
  },
  {
   "cell_type": "code",
   "execution_count": 52,
   "id": "726462fc",
   "metadata": {},
   "outputs": [
    {
     "name": "stdout",
     "output_type": "stream",
     "text": [
      "7.5\n"
     ]
    }
   ],
   "source": [
    "gs_int = 5\n",
    "gs_own = 20\n",
    "\n",
    "hdg_int = 0\n",
    "hdg_own = 0\n",
    "\n",
    "vx_int = gs_int * np.cos(np.deg2rad(hdg_int))\n",
    "vy_int = gs_int * np.sin(np.deg2rad(hdg_int))\n",
    "\n",
    "vx_own = gs_own * np.cos(np.deg2rad(hdg_own))\n",
    "vy_own = gs_own * np.sin(np.deg2rad(hdg_own))\n",
    "\n",
    "radius = np.sqrt((vx_own - vx_int)**2 + (vy_own - vy_int)**2)/2\n",
    "\n",
    "print(radius)"
   ]
  }
 ],
 "metadata": {
  "kernelspec": {
   "display_name": "Python 3 (ipykernel)",
   "language": "python",
   "name": "python3"
  },
  "language_info": {
   "codemirror_mode": {
    "name": "ipython",
    "version": 3
   },
   "file_extension": ".py",
   "mimetype": "text/x-python",
   "name": "python",
   "nbconvert_exporter": "python",
   "pygments_lexer": "ipython3",
   "version": "3.10.12"
  }
 },
 "nbformat": 4,
 "nbformat_minor": 5
}
